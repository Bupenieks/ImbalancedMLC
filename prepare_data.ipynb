{
 "cells": [
  {
   "cell_type": "code",
   "execution_count": 13,
   "metadata": {},
   "outputs": [],
   "source": [
    "from collections import defaultdict\n",
    "import os, random\n",
    "import xml.etree.ElementTree as ET\n",
    "from pprint import pprint\n"
   ]
  },
  {
   "cell_type": "code",
   "execution_count": 4,
   "metadata": {},
   "outputs": [],
   "source": [
    "join = os.path.join\n",
    "\n",
    "PASCAL_DIR = '/root/pascal_voc/VOCdevkit/VOC2012/'\n",
    "IMAGES_DIR = join(PASCAL_DIR, 'JPEGImages')\n",
    "ANOT_DIR = join(PASCAL_DIR, 'Annotations')\n",
    "IMAGE_SET_DIR = join(PASCAL_DIR, 'ImageSets')\n",
    "LABELS_DIR = join(IMAGE_SET_DIR, 'Main')"
   ]
  },
  {
   "cell_type": "code",
   "execution_count": 9,
   "metadata": {},
   "outputs": [
    {
     "name": "stdout",
     "output_type": "stream",
     "text": [
      "defaultdict(<type 'int'>, {'sheep': 357, 'horse': 526, 'bicycle': 603, 'motorbike': 575, 'cow': 340, 'sofa': 742, 'aeroplane': 716, 'dog': 1341, 'cat': 1128, 'person': 9583, 'train': 589, 'boat': 549, 'bottle': 812, 'bus': 467, 'pottedplant': 613, 'tvmonitor': 645, 'chair': 1366, 'bird': 811, 'diningtable': 691, 'car': 1284})\n",
      "['sheep',\n",
      " 'horse',\n",
      " 'bicycle',\n",
      " 'motorbike',\n",
      " 'cow',\n",
      " 'sofa',\n",
      " 'aeroplane',\n",
      " 'dog',\n",
      " 'cat',\n",
      " 'person',\n",
      " 'train',\n",
      " 'boat',\n",
      " 'bottle',\n",
      " 'bus',\n",
      " 'pottedplant',\n",
      " 'tvmonitor',\n",
      " 'chair',\n",
      " 'bird',\n",
      " 'diningtable',\n",
      " 'car']\n"
     ]
    }
   ],
   "source": [
    "label_count = defaultdict(int)\n",
    "for x in [os.path.join(ANOT_DIR, i) for i in os.listdir(ANOT_DIR)]:\n",
    "    tree = ET.parse(x)\n",
    "    root = tree.getroot()\n",
    "    file_name = root.find('filename').text\n",
    "    file_path = os.path.join(IMAGES_DIR, file_name)\n",
    "    ad = set()\n",
    "    for child in root.findall('object'):\n",
    "        category = child.find('name').text\n",
    "        if category in ad:\n",
    "            continue\n",
    "        label_count[category]+=1\n",
    "        ad.add(category)\n",
    "pprint(label_count)\n",
    "\n",
    "all_categories = label_count.keys()\n",
    "pprint(all_categories)"
   ]
  },
  {
   "cell_type": "code",
   "execution_count": 10,
   "metadata": {},
   "outputs": [],
   "source": [
    "with open('categories.txt', 'w') as c:\n",
    "    for i in all_categories:\n",
    "        c.write('{}\\n'.format(i))"
   ]
  },
  {
   "cell_type": "code",
   "execution_count": 11,
   "metadata": {},
   "outputs": [
    {
     "data": {
      "image/png": "[encoded data removed]",
      "text/plain": [
       "<matplotlib.figure.Figure at 0x7f4cad30fc50>"
      ]
     },
     "metadata": {},
     "output_type": "display_data"
    }
   ],
   "source": [
    "import matplotlib.pyplot as plt\n",
    "\n",
    "D = label_count\n",
    "\n",
    "plt.bar(range(len(D)), list(D.values()), align='center')\n",
    "plt.xticks(range(len(D)), list(D.keys()))\n",
    "plt.show()"
   ]
  },
  {
   "cell_type": "code",
   "execution_count": 14,
   "metadata": {},
   "outputs": [],
   "source": [
    "def build_map(set_txt):\n",
    "    set_dict = defaultdict(list)\n",
    "    with open(set_txt) as t:\n",
    "        for i in t:\n",
    "            i = i.strip('\\n')\n",
    "            tree = ET.parse(os.path.join(ANOT_DIR, '{}.xml'.format(i)))\n",
    "            root = tree.getroot()\n",
    "            file_name = root.find('filename').text\n",
    "            file_path = os.path.join(IMAGES_DIR, file_name)\n",
    "            ad = set()\n",
    "            for child in root.findall('object'):\n",
    "                category = child.find('name').text\n",
    "                if category in ad:\n",
    "                    continue\n",
    "                set_dict[file_path].append(category)\n",
    "                ad.add(category)\n",
    "    return set_dict\n",
    "\n",
    "train_txt = os.path.join(IMAGE_SET_DIR, 'Main', 'train.txt')\n",
    "val_txt = os.path.join(IMAGE_SET_DIR, 'Main', 'val.txt')\n",
    "all_data_txt = os.path.join(IMAGE_SET_DIR, 'Main', 'trainval.txt')\n",
    "\n",
    "all_data_map = build_map(all_data_txt)\n",
    "all_data = all_data_map.items()\n",
    "random.shuffle(all_data)"
   ]
  },
  {
   "cell_type": "code",
   "execution_count": 15,
   "metadata": {},
   "outputs": [],
   "source": [
    "splindex = int(0.90*len(all_data))\n",
    "train_map = dict(all_data[:splindex])\n",
    "val_map = dict(all_data[splindex:])"
   ]
  },
  {
   "cell_type": "code",
   "execution_count": 19,
   "metadata": {},
   "outputs": [
    {
     "name": "stdout",
     "output_type": "stream",
     "text": [
      "/root/pascal_voc/VOCdevkit/VOC2012/JPEGImages/2010_003900.jpg\n"
     ]
    },
    {
     "ename": "AssertionError",
     "evalue": "",
     "output_type": "error",
     "traceback": [
      "\u001b[0;31m\u001b[0m",
      "\u001b[0;31mAssertionError\u001b[0mTraceback (most recent call last)",
      "\u001b[0;32m<ipython-input-19-9c048f785a8c>\u001b[0m in \u001b[0;36m<module>\u001b[0;34m()\u001b[0m\n\u001b[1;32m      1\u001b[0m \u001b[0;32mfor\u001b[0m \u001b[0mi\u001b[0m \u001b[0;32min\u001b[0m \u001b[0mtrain_map\u001b[0m\u001b[0;34m:\u001b[0m\u001b[0;34m\u001b[0m\u001b[0m\n\u001b[1;32m      2\u001b[0m     \u001b[0;32mprint\u001b[0m \u001b[0mi\u001b[0m\u001b[0;34m\u001b[0m\u001b[0m\n\u001b[0;32m----> 3\u001b[0;31m     \u001b[0;32massert\u001b[0m\u001b[0;34m(\u001b[0m\u001b[0mi\u001b[0m \u001b[0;32min\u001b[0m \u001b[0mall_categories\u001b[0m\u001b[0;34m)\u001b[0m\u001b[0;34m\u001b[0m\u001b[0m\n\u001b[0m",
      "\u001b[0;31mAssertionError\u001b[0m: "
     ]
    }
   ],
   "source": [
    "covered_cats = set()\n",
    "for key, vals in train_map.items():\n",
    "    for v in vals:\n",
    "        covered_cats.add(v)\n",
    "        \n",
    "print covered_cats - set(all_Ca)"
   ]
  },
  {
   "cell_type": "code",
   "execution_count": 16,
   "metadata": {},
   "outputs": [
    {
     "name": "stdout",
     "output_type": "stream",
     "text": [
      "10386\n",
      "1154\n"
     ]
    }
   ],
   "source": [
    "print len(train_map)\n",
    "print len(val_map)"
   ]
  },
  {
   "cell_type": "code",
   "execution_count": 34,
   "metadata": {},
   "outputs": [],
   "source": [
    "with open('train.json', 'w') as t_txt, open('val.json', 'w') as v_txt:\n",
    "    json.dump(train_map, t_txt)\n",
    "    json.dump(val_map, v_txt)"
   ]
  }
 ],
 "metadata": {
  "kernelspec": {
   "display_name": "Python 2",
   "language": "python",
   "name": "python2"
  },
  "language_info": {
   "codemirror_mode": {
    "name": "ipython",
    "version": 2
   },
   "file_extension": ".py",
   "mimetype": "text/x-python",
   "name": "python",
   "nbconvert_exporter": "python",
   "pygments_lexer": "ipython2",
   "version": "2.7.12"
  }
 },
 "nbformat": 4,
 "nbformat_minor": 2
}
